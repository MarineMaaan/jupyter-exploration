{
  "nbformat": 4,
  "nbformat_minor": 0,
  "metadata": {
    "colab": {
      "provenance": []
    },
    "kernelspec": {
      "name": "python3",
      "display_name": "Python 3"
    },
    "language_info": {
      "name": "python"
    }
  },
  "cells": [
    {
      "cell_type": "markdown",
      "metadata": {
        "id": "b61491ae"
      },
      "source": [
        "My first markdown cell in Jupyter."
      ]
    },
    {
      "cell_type": "code",
      "execution_count": 1,
      "metadata": {
        "colab": {
          "base_uri": "https://localhost:8080/"
        },
        "id": "8tt25DuyRJTO",
        "outputId": "8b581719-57b6-4c85-d395-982e675cdbba"
      },
      "outputs": [
        {
          "output_type": "stream",
          "name": "stdout",
          "text": [
            "Hello, world!\n",
            "My name is Alice and I am 30 years old.\n",
            "apple\n",
            "['apple', 'banana', 'cherry', 'date']\n",
            "Bob\n",
            "{'name': 'Bob', 'age': 25, 'city': 'New York'}\n",
            "Good\n",
            "apple\n",
            "banana\n",
            "cherry\n",
            "date\n",
            "0\n",
            "1\n",
            "2\n",
            "Hello, Charlie!\n",
            "End of overview\n"
          ]
        }
      ],
      "source": [
        "# This is a basic overview of Python 3\n",
        "\n",
        "# Variables and Data Types\n",
        "# You can assign values to variables. Python is dynamically typed,\n",
        "# meaning you don't need to declare the variable type.\n",
        "name = \"Alice\"  # string\n",
        "age = 30        # integer\n",
        "height = 5.5    # float\n",
        "is_student = True # boolean\n",
        "\n",
        "# Printing output\n",
        "print(\"Hello, world!\") # prints a string\n",
        "print(\"My name is\", name, \"and I am\", age, \"years old.\")\n",
        "\n",
        "# Data Structures\n",
        "\n",
        "# Lists: Ordered, mutable sequences\n",
        "fruits = [\"apple\", \"banana\", \"cherry\"]\n",
        "print(fruits[0]) # Accessing elements by index\n",
        "fruits.append(\"date\") # Adding elements\n",
        "print(fruits)\n",
        "\n",
        "# Dictionaries: Unordered, mutable key-value pairs\n",
        "person = {\"name\": \"Bob\", \"age\": 25}\n",
        "print(person[\"name\"])\n",
        "person[\"city\"] = \"New York\" # Adding key-value pairs\n",
        "print(person)\n",
        "\n",
        "# Control Flow\n",
        "\n",
        "# Conditional statements (if, elif, else)\n",
        "score = 85\n",
        "if score >= 90:\n",
        "    print(\"Excellent\")\n",
        "elif score >= 70:\n",
        "    print(\"Good\")\n",
        "else:\n",
        "    print(\"Needs improvement\")\n",
        "\n",
        "# Loops (for, while)\n",
        "for fruit in fruits:\n",
        "    print(fruit)\n",
        "\n",
        "i = 0\n",
        "while i < 3:\n",
        "    print(i)\n",
        "    i += 1\n",
        "\n",
        "# Functions: Blocks of reusable code\n",
        "def greet(name):\n",
        "    return \"Hello, \" + name + \"!\"\n",
        "\n",
        "message = greet(\"Charlie\")\n",
        "print(message)\n",
        "\n",
        "# Comments: Used to explain code. Lines starting with '#' are comments.\n",
        "# This line is a comment and will be ignored by the interpreter.\n",
        "\n",
        "\"\"\"\n",
        "This is a multi-line comment\n",
        "or docstring.\n",
        "\"\"\"\n",
        "\n",
        "print(\"End of overview\")"
      ]
    }
  ]
}